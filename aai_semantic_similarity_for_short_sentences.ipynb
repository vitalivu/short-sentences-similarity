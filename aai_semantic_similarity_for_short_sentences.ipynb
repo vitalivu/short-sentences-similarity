{
  "nbformat": 4,
  "nbformat_minor": 0,
  "metadata": {
    "kernelspec": {
      "language": "python",
      "display_name": "Python 3",
      "name": "python3"
    },
    "language_info": {
      "name": "python",
      "version": "3.7.9",
      "mimetype": "text/x-python",
      "codemirror_mode": {
        "name": "ipython",
        "version": 3
      },
      "pygments_lexer": "ipython3",
      "nbconvert_exporter": "python",
      "file_extension": ".py"
    },
    "colab": {
      "name": "aai-semantic-similarity-for-short-sentences.ipynb",
      "provenance": [],
      "toc_visible": true,
      "include_colab_link": true
    },
    "accelerator": "GPU"
  },
  "cells": [
    {
      "cell_type": "markdown",
      "metadata": {
        "id": "view-in-github",
        "colab_type": "text"
      },
      "source": [
        "<a href=\"https://colab.research.google.com/github/vitalivu/short-sentences-similarity/blob/master/aai_semantic_similarity_for_short_sentences.ipynb\" target=\"_parent\"><img src=\"https://colab.research.google.com/assets/colab-badge.svg\" alt=\"Open In Colab\"/></a>"
      ]
    },
    {
      "cell_type": "markdown",
      "metadata": {
        "id": "w2vv2sR4f7kU"
      },
      "source": [
        "AAI Short Sentence Similarity\n",
        "======="
      ]
    },
    {
      "cell_type": "markdown",
      "metadata": {
        "id": "eS7wUOhxeXFn"
      },
      "source": [
        "\n",
        "\n",
        "## Project Requirement\n",
        "\n",
        "Python `pip`:\n",
        "- `sentence_transformers`: a BERT based model, to convert output of BERT based (eg BERT/RoBERTa) to a fixed-size vector\n",
        "- `pandas`: working with file in CSV format\n",
        "- `pytorch`, `numpy`: for caculation\n",
        "- `sklearn`: using `k-fold` cross validation to build and evaluate the model\n",
        "\n",
        "For original paper of Sentence-BERT, see [arxiv.org](https://arxiv.org/abs/1908.10084)\n",
        "For the translation version, see [TODO lvt: insert drive link of PDF](#)\n",
        "\n",
        "Install requirements packages with pip:"
      ]
    },
    {
      "cell_type": "code",
      "metadata": {
        "trusted": true,
        "id": "39uw3YSMeXFw"
      },
      "source": [
        "!pip install sentence_transformers"
      ],
      "execution_count": null,
      "outputs": []
    },
    {
      "cell_type": "markdown",
      "metadata": {
        "id": "1SMNNiQmgN7C"
      },
      "source": [
        "## Project Overview\n"
      ]
    },
    {
      "cell_type": "markdown",
      "metadata": {
        "id": "0_jIs2theXF1"
      },
      "source": [
        "\n",
        "### Real world problem\n",
        "1. Quora is a social network for people to ask and answer\n",
        "  - Typically, after an user submits a question, he has to wait for someone else answer his question\n",
        "  - Time fly, at the moment Quora has a huge dataset of quesions from its users:\n",
        "    - Some question is new\n",
        "    - Some question is asked over and over => it's duplicated, and already has the answer.\n",
        "  - Whenever an user want to ask a new question, \n",
        "    - if Quora can provide the similar questions for users (based on their huge dataset of question), user will able to browse the duplicate question's answer without waiting for someone else to answer. It's really helpful to provide the similar question to their question.\n",
        "    \n",
        "2. Question based system:\n",
        "  - Given a dataset of pairs question-and-answer.\n",
        "  - User was asking to answer a question.\n",
        "    - User provides an answer and submit to system.\n",
        "  - The system bases on the model to rate is the user's answer is similar with the answer in dataset.\n",
        "      - The rating in range of [0,1], with 1 means very similar."
      ]
    },
    {
      "cell_type": "markdown",
      "metadata": {
        "id": "YMkoMEdpgRWC"
      },
      "source": [
        "### Problem\n",
        "- Domain: Natual Language Processing\n",
        "- Problem: Semantic similarity between short sentences\n",
        "- Data:\n",
        "  - The quora's dataset\n",
        "    - provided in CSV format\n",
        "      - for each line, given 2 questions and a flag indicate that is the 2 questions is duplicate or not\n",
        "    - contains both training/test set in zip format, see the list of file below:"
      ]
    },
    {
      "cell_type": "code",
      "metadata": {
        "trusted": true,
        "id": "74lHMVnjeXF2"
      },
      "source": [
        "from google.colab import drive\n",
        "drive.mount('/gdrive')\n",
        "\n",
        "import numpy as np\n",
        "import pandas as pd\n",
        "import os\n",
        "for dirname, _, filenames in os.walk('/gdrive/MyDrive/Colab Notebooks/data'):\n",
        "    for filename in filenames:\n",
        "        print(os.path.join(dirname, filename))"
      ],
      "execution_count": null,
      "outputs": []
    },
    {
      "cell_type": "markdown",
      "metadata": {
        "id": "abcPK069eXF2"
      },
      "source": [
        "Example data in training set"
      ]
    },
    {
      "cell_type": "code",
      "metadata": {
        "trusted": true,
        "colab": {
          "base_uri": "https://localhost:8080/",
          "height": 359
        },
        "id": "vMbf3qCkeXF2",
        "outputId": "fcbeab8f-96c6-4a00-b85c-240f6b6b10d7"
      },
      "source": [
        "df = pd.read_csv('/gdrive/MyDrive/Colab Notebooks/data/quora/input/train.csv.zip', compression='zip', sep=',')\n",
        "df.head(10)"
      ],
      "execution_count": null,
      "outputs": [
        {
          "output_type": "execute_result",
          "data": {
            "text/html": [
              "<div>\n",
              "<style scoped>\n",
              "    .dataframe tbody tr th:only-of-type {\n",
              "        vertical-align: middle;\n",
              "    }\n",
              "\n",
              "    .dataframe tbody tr th {\n",
              "        vertical-align: top;\n",
              "    }\n",
              "\n",
              "    .dataframe thead th {\n",
              "        text-align: right;\n",
              "    }\n",
              "</style>\n",
              "<table border=\"1\" class=\"dataframe\">\n",
              "  <thead>\n",
              "    <tr style=\"text-align: right;\">\n",
              "      <th></th>\n",
              "      <th>id</th>\n",
              "      <th>qid1</th>\n",
              "      <th>qid2</th>\n",
              "      <th>question1</th>\n",
              "      <th>question2</th>\n",
              "      <th>is_duplicate</th>\n",
              "    </tr>\n",
              "  </thead>\n",
              "  <tbody>\n",
              "    <tr>\n",
              "      <th>0</th>\n",
              "      <td>0</td>\n",
              "      <td>1</td>\n",
              "      <td>2</td>\n",
              "      <td>What is the step by step guide to invest in sh...</td>\n",
              "      <td>What is the step by step guide to invest in sh...</td>\n",
              "      <td>0</td>\n",
              "    </tr>\n",
              "    <tr>\n",
              "      <th>1</th>\n",
              "      <td>1</td>\n",
              "      <td>3</td>\n",
              "      <td>4</td>\n",
              "      <td>What is the story of Kohinoor (Koh-i-Noor) Dia...</td>\n",
              "      <td>What would happen if the Indian government sto...</td>\n",
              "      <td>0</td>\n",
              "    </tr>\n",
              "    <tr>\n",
              "      <th>2</th>\n",
              "      <td>2</td>\n",
              "      <td>5</td>\n",
              "      <td>6</td>\n",
              "      <td>How can I increase the speed of my internet co...</td>\n",
              "      <td>How can Internet speed be increased by hacking...</td>\n",
              "      <td>0</td>\n",
              "    </tr>\n",
              "    <tr>\n",
              "      <th>3</th>\n",
              "      <td>3</td>\n",
              "      <td>7</td>\n",
              "      <td>8</td>\n",
              "      <td>Why am I mentally very lonely? How can I solve...</td>\n",
              "      <td>Find the remainder when [math]23^{24}[/math] i...</td>\n",
              "      <td>0</td>\n",
              "    </tr>\n",
              "    <tr>\n",
              "      <th>4</th>\n",
              "      <td>4</td>\n",
              "      <td>9</td>\n",
              "      <td>10</td>\n",
              "      <td>Which one dissolve in water quikly sugar, salt...</td>\n",
              "      <td>Which fish would survive in salt water?</td>\n",
              "      <td>0</td>\n",
              "    </tr>\n",
              "    <tr>\n",
              "      <th>5</th>\n",
              "      <td>5</td>\n",
              "      <td>11</td>\n",
              "      <td>12</td>\n",
              "      <td>Astrology: I am a Capricorn Sun Cap moon and c...</td>\n",
              "      <td>I'm a triple Capricorn (Sun, Moon and ascendan...</td>\n",
              "      <td>1</td>\n",
              "    </tr>\n",
              "    <tr>\n",
              "      <th>6</th>\n",
              "      <td>6</td>\n",
              "      <td>13</td>\n",
              "      <td>14</td>\n",
              "      <td>Should I buy tiago?</td>\n",
              "      <td>What keeps childern active and far from phone ...</td>\n",
              "      <td>0</td>\n",
              "    </tr>\n",
              "    <tr>\n",
              "      <th>7</th>\n",
              "      <td>7</td>\n",
              "      <td>15</td>\n",
              "      <td>16</td>\n",
              "      <td>How can I be a good geologist?</td>\n",
              "      <td>What should I do to be a great geologist?</td>\n",
              "      <td>1</td>\n",
              "    </tr>\n",
              "    <tr>\n",
              "      <th>8</th>\n",
              "      <td>8</td>\n",
              "      <td>17</td>\n",
              "      <td>18</td>\n",
              "      <td>When do you use シ instead of し?</td>\n",
              "      <td>When do you use \"&amp;\" instead of \"and\"?</td>\n",
              "      <td>0</td>\n",
              "    </tr>\n",
              "    <tr>\n",
              "      <th>9</th>\n",
              "      <td>9</td>\n",
              "      <td>19</td>\n",
              "      <td>20</td>\n",
              "      <td>Motorola (company): Can I hack my Charter Moto...</td>\n",
              "      <td>How do I hack Motorola DCX3400 for free internet?</td>\n",
              "      <td>0</td>\n",
              "    </tr>\n",
              "  </tbody>\n",
              "</table>\n",
              "</div>"
            ],
            "text/plain": [
              "   id  qid1  ...                                          question2 is_duplicate\n",
              "0   0     1  ...  What is the step by step guide to invest in sh...            0\n",
              "1   1     3  ...  What would happen if the Indian government sto...            0\n",
              "2   2     5  ...  How can Internet speed be increased by hacking...            0\n",
              "3   3     7  ...  Find the remainder when [math]23^{24}[/math] i...            0\n",
              "4   4     9  ...            Which fish would survive in salt water?            0\n",
              "5   5    11  ...  I'm a triple Capricorn (Sun, Moon and ascendan...            1\n",
              "6   6    13  ...  What keeps childern active and far from phone ...            0\n",
              "7   7    15  ...          What should I do to be a great geologist?            1\n",
              "8   8    17  ...              When do you use \"&\" instead of \"and\"?            0\n",
              "9   9    19  ...  How do I hack Motorola DCX3400 for free internet?            0\n",
              "\n",
              "[10 rows x 6 columns]"
            ]
          },
          "metadata": {
            "tags": []
          },
          "execution_count": 3
        }
      ]
    },
    {
      "cell_type": "markdown",
      "metadata": {
        "id": "zcx0kwOmeXF3"
      },
      "source": [
        "## Problem Statement\n",
        "\n",
        "> Given 2 short sentences (2 questions for more detail)\n",
        "> Predict that is the provided sentences is similar?.\n",
        "\n",
        "- Problem is a **binary classification** task.\n",
        "- Input: 2 questions\n",
        "- Ouput: flag indicate the 2 question is duplicated or not."
      ]
    },
    {
      "cell_type": "markdown",
      "metadata": {
        "id": "ntegFp-JeXF3"
      },
      "source": [
        "## Data Understanding\n",
        "\n",
        "### Format of data\n",
        "CSV - can be process directly with `pandas`\n",
        "\n",
        "### Quality of data\n",
        "\n",
        "Some statistics from dataset"
      ]
    },
    {
      "cell_type": "code",
      "metadata": {
        "trusted": true,
        "colab": {
          "base_uri": "https://localhost:8080/",
          "height": 435
        },
        "id": "w8ct0KFfeXF4",
        "outputId": "7421bdec-58a5-44ec-9fdf-4b62ef55a3ac"
      },
      "source": [
        "import matplotlib.pyplot as plt\n",
        "\n",
        "print('Total pair of question: {}'.format(len(df)))\n",
        "print('Total duplicated pairs: {}%'.format(round(df['is_duplicate'].mean()*100, 2)))\n",
        "qids = pd.Series(df['qid1'].tolist() + df['qid2'].tolist())\n",
        "print('Total unique questions: {}'.format(len(np.unique(qids))))\n",
        "print('Total non-unique/repeated questions: {}'.format(np.sum(qids.value_counts() > 1)))\n",
        "\n",
        "plt.figure(figsize=(12, 5))\n",
        "plt.hist(qids.value_counts(), bins=50)\n",
        "plt.yscale('log')\n",
        "plt.title('Histogram of question repeated')\n",
        "plt.xlabel('No. repeated')\n",
        "plt.ylabel('Count questions')\n",
        "print()"
      ],
      "execution_count": null,
      "outputs": [
        {
          "output_type": "stream",
          "text": [
            "Total pair of question: 404290\n",
            "Total duplicated pairs: 36.92%\n",
            "Total unique questions: 537933\n",
            "Total non-unique/repeated questions: 111780\n",
            "\n"
          ],
          "name": "stdout"
        },
        {
          "output_type": "display_data",
          "data": {
            "image/png": "[encoded data removed]",
            "text/plain": [
              "<Figure size 864x360 with 1 Axes>"
            ]
          },
          "metadata": {
            "tags": [],
            "needs_background": "light"
          }
        }
      ]
    },
    {
      "cell_type": "markdown",
      "metadata": {
        "id": "-vILl9wqeXF5"
      },
      "source": [
        "Using tf-idf to find the least common words"
      ]
    },
    {
      "cell_type": "code",
      "metadata": {
        "trusted": true,
        "colab": {
          "base_uri": "https://localhost:8080/"
        },
        "id": "GE6AEaHQeXF5",
        "outputId": "7f4c99a1-3dd7-4d60-f161-0fa71d2fa925"
      },
      "source": [
        "from collections import Counter\n",
        "\n",
        "questions = pd.Series(df['question1'].tolist() + df['question2'].tolist()).astype(str)\n",
        "\n",
        "words = (\" \".join(questions)).lower().split()\n",
        "counts = Counter(words)\n",
        "weights = {word: count for word, count in counts.items()}\n",
        "(sorted(weights.items(), key=lambda x: x[1], reverse=False)[:10])"
      ],
      "execution_count": null,
      "outputs": [
        {
          "output_type": "execute_result",
          "data": {
            "text/plain": [
              "[('rising...what', 1),\n",
              " ('tiago?', 1),\n",
              " ('motorolla', 1),\n",
              " ('dcx3400?', 1),\n",
              " ('biprism?', 1),\n",
              " ('(employment,', 1),\n",
              " ('me?\",', 1),\n",
              " ('aoa', 1),\n",
              " ('rexnord', 1),\n",
              " ('israil', 1)]"
            ]
          },
          "metadata": {
            "tags": []
          },
          "execution_count": 5
        }
      ]
    },
    {
      "cell_type": "markdown",
      "metadata": {
        "id": "2htVI30cgbbK"
      },
      "source": [
        "### Semantic analysis\n"
      ]
    },
    {
      "cell_type": "code",
      "metadata": {
        "trusted": true,
        "colab": {
          "base_uri": "https://localhost:8080/"
        },
        "id": "99FB3qEWeXF5",
        "outputId": "912478a8-d37d-4056-d059-aeb6a52b8a50"
      },
      "source": [
        "qmarks = np.mean(questions.apply(lambda x: '?' in x))\n",
        "fullstop = np.mean(questions.apply(lambda x: '.' in x))\n",
        "numbers = np.mean(questions.apply(lambda x: max([y.isdigit() for y in x])))\n",
        "\n",
        "print('Questions with question marks: {:.2f}%'.format(qmarks * 100))\n",
        "print('Questions with full stops: {:.2f}%'.format(fullstop * 100))\n",
        "print('Questions with numbers: {:.2f}%'.format(numbers * 100))"
      ],
      "execution_count": null,
      "outputs": [
        {
          "output_type": "stream",
          "text": [
            "Questions with question marks: 99.87%\n",
            "Questions with full stops: 6.31%\n",
            "Questions with numbers: 11.83%\n"
          ],
          "name": "stdout"
        }
      ]
    },
    {
      "cell_type": "markdown",
      "metadata": {
        "id": "QggIYE83eXF5"
      },
      "source": [
        "### Data pre-processing\n",
        "\n",
        "Data need preprocessing:\n",
        "- Data is case insentive, but provided in with both lower/uppercase characters => lowercase all character\n",
        "- Data has special characters/punctuations and can be removed/replaced, eg `$` dollar, remove `?!~` => remove non ascii character\n",
        "- Data has abbreviations, eg `wouldn't` (would not) => replace"
      ]
    },
    {
      "cell_type": "code",
      "metadata": {
        "trusted": true,
        "id": "z9CS6xnheXF6"
      },
      "source": [
        "import nltk\n",
        "nltk.download('wordnet')\n",
        "nltk.download('punkt')\n",
        "\n",
        "from nltk.tokenize import word_tokenize\n",
        "\n",
        "abbreviations = {\n",
        "\"'all\": \"all\",\n",
        "\"'cause\": \"because\",\n",
        "\"'ll\": 'will',\n",
        "\"'m\": \"am\",\n",
        "\"'re\": \"are\",\n",
        "\"'s\": 'is',\n",
        "\"'ve\": 'have',\n",
        "\"'y\": \"you\",\n",
        "\"ai\": 'am',\n",
        "\"can't\": \"can not\",\n",
        "\"couldn't\": \"could not\",\n",
        "\"hadn't\": \"had not\",\n",
        "\"he'll\": 'he will',\n",
        "\"how'd'y\": \"how would you\",\n",
        "\"i'll\": 'i will',\n",
        "\"it'll\": 'it will',\n",
        "\"mightn't\": \"might not\",\n",
        "\"mustn't\": \"must not\",\n",
        "\"n't\": 'not',\n",
        "\"needn't\": \"need not\",\n",
        "\"o'clock\": \"clock\",\n",
        "\"oughtn't\": \"ought not\",\n",
        "\"sha'n't\": \"will not\",\n",
        "\"shan't\": \"will not\",\n",
        "\"she'll\": 'she will',\n",
        "\"shouldn't\": \"should not\",\n",
        "\"they'll\": 'they will',\n",
        "\"we'll\": 'we will',\n",
        "\"what'll\": \"what will\",\n",
        "\"who'll\": \"who will\",\n",
        "\"won't\": \"will not\",\n",
        "\"wouldn't\": \"would not\",\n",
        "\"y'all\": \"you all\",\n",
        "\"you'll\": 'you will',\n",
        "}\n",
        "\n",
        "def de_abbrev(word):\n",
        "    return abbreviations[word] if word.lower() in abbreviations.keys() else word\n",
        "\n",
        "def clean_text(text):\n",
        "    if not isinstance(text, str):\n",
        "        return \"\"\n",
        "    for c in [\",\", \"!\", \".\", \"?\", '\"', \":\", \";\", \"[\", \"]\", \"{\", \"}\", \"<\", \">\"]:\n",
        "        text = text.lower().replace(c, \" \")\n",
        "    tokens = word_tokenize(text)\n",
        "    tokens = [de_abbrev(word) for word in tokens]\n",
        "    text = \" \".join(tokens)\n",
        "    return str(text).replace(r'[^\\x00-\\x7f]', r' ') # remove all special chars\n",
        "\n",
        "clean_text(\"What's the approx annual cost of living while studying in UIC Chicago, for an Indian student?\")"
      ],
      "execution_count": null,
      "outputs": []
    },
    {
      "cell_type": "markdown",
      "metadata": {
        "id": "sobrhi5OeXF6"
      },
      "source": [
        "then, create additional data column with cleaned data by mapping `question` to `clean_text(question)`"
      ]
    },
    {
      "cell_type": "markdown",
      "metadata": {
        "id": "ediQ2lJzeXF7"
      },
      "source": [
        "- List all the sentence (cleaned)\n",
        "- Compute vector embeddings of each sentence"
      ]
    },
    {
      "cell_type": "code",
      "metadata": {
        "scrolled": true,
        "trusted": true,
        "colab": {
          "base_uri": "https://localhost:8080/",
          "height": 546
        },
        "id": "Tm1P6puBeXF7",
        "outputId": "b0971837-e7ac-41ed-b851-a6ff44363bb7"
      },
      "source": [
        "from sentence_transformers import SentenceTransformer, util, CrossEncoder\n",
        "from time import perf_counter\n",
        "\n",
        "sbert_model = SentenceTransformer('paraphrase-distilroberta-base-v1')\n",
        "\n",
        "sub_set_size = 2000\n",
        "t00 = perf_counter()\n",
        "cosine_sim = []\n",
        "total_subset = len(df) // sub_set_size\n",
        "\n",
        "for g, sub_df in df.groupby(np.arange(len(df)) // sub_set_size):\n",
        "\n",
        "    t0 = perf_counter()\n",
        "\n",
        "    question1 = sub_df['question1'].tolist()\n",
        "    question2 = sub_df['question2'].tolist()\n",
        "    cleaned_q1 = [clean_text(q) for q in question1]\n",
        "    cleaned_q2 = [clean_text(q) for q in question2]\n",
        "\n",
        "    embeddings1 = sbert_model.encode(cleaned_q1, convert_to_tensor=True)\n",
        "    embeddings2 = sbert_model.encode(cleaned_q2, convert_to_tensor=True)\n",
        "    cosine_scores = util.pytorch_cos_sim(embeddings1, embeddings2)\n",
        "    sub_cosine_sim = [cosine_scores[ir][ir].item() for ir in range(len(cleaned_q1))]\n",
        "\n",
        "    t1 = perf_counter()\n",
        "    print(\"subset bi encoder {}/{} {} process in {:.4f} seconds\".format(g, total_subset,sub_df.shape, t1 - t0))\n",
        "\n",
        "    #for ir in range(len(cleaned_q1)):\n",
        "    #    print(\"{:.6f} | {} | {}\".format(cosine_scores[ir][ir], cleaned_q1[ir], cleaned_q2[ir]))\n",
        "    cosine_sim.extend(sub_cosine_sim)\n",
        "\n",
        "t0z = perf_counter()\n",
        "print(\"Total time {:.4f} seconds\".format(t0z - t00))\n",
        "df['cosine_sim'] = cosine_sim\n",
        "df.head(10)"
      ],
      "execution_count": null,
      "outputs": [
        {
          "output_type": "stream",
          "text": [
            "subset bi encoder 193/202 (2000, 6) process in 3.3943 seconds\n",
            "subset bi encoder 194/202 (2000, 6) process in 3.3904 seconds\n",
            "subset bi encoder 195/202 (2000, 6) process in 3.4566 seconds\n",
            "subset bi encoder 196/202 (2000, 6) process in 3.3499 seconds\n",
            "subset bi encoder 197/202 (2000, 6) process in 3.3640 seconds\n",
            "subset bi encoder 198/202 (2000, 6) process in 3.4251 seconds\n",
            "subset bi encoder 199/202 (2000, 6) process in 3.3719 seconds\n",
            "subset bi encoder 200/202 (2000, 6) process in 3.4426 seconds\n",
            "subset bi encoder 201/202 (2000, 6) process in 3.3305 seconds\n",
            "subset bi encoder 202/202 (290, 6) process in 0.5823 seconds\n",
            "Total time 684.3589 seconds\n"
          ],
          "name": "stdout"
        },
        {
          "output_type": "execute_result",
          "data": {
            "text/html": [
              "<div>\n",
              "<style scoped>\n",
              "    .dataframe tbody tr th:only-of-type {\n",
              "        vertical-align: middle;\n",
              "    }\n",
              "\n",
              "    .dataframe tbody tr th {\n",
              "        vertical-align: top;\n",
              "    }\n",
              "\n",
              "    .dataframe thead th {\n",
              "        text-align: right;\n",
              "    }\n",
              "</style>\n",
              "<table border=\"1\" class=\"dataframe\">\n",
              "  <thead>\n",
              "    <tr style=\"text-align: right;\">\n",
              "      <th></th>\n",
              "      <th>id</th>\n",
              "      <th>qid1</th>\n",
              "      <th>qid2</th>\n",
              "      <th>question1</th>\n",
              "      <th>question2</th>\n",
              "      <th>is_duplicate</th>\n",
              "      <th>cosine_sim</th>\n",
              "    </tr>\n",
              "  </thead>\n",
              "  <tbody>\n",
              "    <tr>\n",
              "      <th>0</th>\n",
              "      <td>0</td>\n",
              "      <td>1</td>\n",
              "      <td>2</td>\n",
              "      <td>What is the step by step guide to invest in sh...</td>\n",
              "      <td>What is the step by step guide to invest in sh...</td>\n",
              "      <td>0</td>\n",
              "      <td>0.954577</td>\n",
              "    </tr>\n",
              "    <tr>\n",
              "      <th>1</th>\n",
              "      <td>1</td>\n",
              "      <td>3</td>\n",
              "      <td>4</td>\n",
              "      <td>What is the story of Kohinoor (Koh-i-Noor) Dia...</td>\n",
              "      <td>What would happen if the Indian government sto...</td>\n",
              "      <td>0</td>\n",
              "      <td>0.526763</td>\n",
              "    </tr>\n",
              "    <tr>\n",
              "      <th>2</th>\n",
              "      <td>2</td>\n",
              "      <td>5</td>\n",
              "      <td>6</td>\n",
              "      <td>How can I increase the speed of my internet co...</td>\n",
              "      <td>How can Internet speed be increased by hacking...</td>\n",
              "      <td>0</td>\n",
              "      <td>0.624345</td>\n",
              "    </tr>\n",
              "    <tr>\n",
              "      <th>3</th>\n",
              "      <td>3</td>\n",
              "      <td>7</td>\n",
              "      <td>8</td>\n",
              "      <td>Why am I mentally very lonely? How can I solve...</td>\n",
              "      <td>Find the remainder when [math]23^{24}[/math] i...</td>\n",
              "      <td>0</td>\n",
              "      <td>0.132098</td>\n",
              "    </tr>\n",
              "    <tr>\n",
              "      <th>4</th>\n",
              "      <td>4</td>\n",
              "      <td>9</td>\n",
              "      <td>10</td>\n",
              "      <td>Which one dissolve in water quikly sugar, salt...</td>\n",
              "      <td>Which fish would survive in salt water?</td>\n",
              "      <td>0</td>\n",
              "      <td>0.286812</td>\n",
              "    </tr>\n",
              "    <tr>\n",
              "      <th>5</th>\n",
              "      <td>5</td>\n",
              "      <td>11</td>\n",
              "      <td>12</td>\n",
              "      <td>Astrology: I am a Capricorn Sun Cap moon and c...</td>\n",
              "      <td>I'm a triple Capricorn (Sun, Moon and ascendan...</td>\n",
              "      <td>1</td>\n",
              "      <td>0.799678</td>\n",
              "    </tr>\n",
              "    <tr>\n",
              "      <th>6</th>\n",
              "      <td>6</td>\n",
              "      <td>13</td>\n",
              "      <td>14</td>\n",
              "      <td>Should I buy tiago?</td>\n",
              "      <td>What keeps childern active and far from phone ...</td>\n",
              "      <td>0</td>\n",
              "      <td>-0.034585</td>\n",
              "    </tr>\n",
              "    <tr>\n",
              "      <th>7</th>\n",
              "      <td>7</td>\n",
              "      <td>15</td>\n",
              "      <td>16</td>\n",
              "      <td>How can I be a good geologist?</td>\n",
              "      <td>What should I do to be a great geologist?</td>\n",
              "      <td>1</td>\n",
              "      <td>0.944617</td>\n",
              "    </tr>\n",
              "    <tr>\n",
              "      <th>8</th>\n",
              "      <td>8</td>\n",
              "      <td>17</td>\n",
              "      <td>18</td>\n",
              "      <td>When do you use シ instead of し?</td>\n",
              "      <td>When do you use \"&amp;\" instead of \"and\"?</td>\n",
              "      <td>0</td>\n",
              "      <td>0.460974</td>\n",
              "    </tr>\n",
              "    <tr>\n",
              "      <th>9</th>\n",
              "      <td>9</td>\n",
              "      <td>19</td>\n",
              "      <td>20</td>\n",
              "      <td>Motorola (company): Can I hack my Charter Moto...</td>\n",
              "      <td>How do I hack Motorola DCX3400 for free internet?</td>\n",
              "      <td>0</td>\n",
              "      <td>0.639556</td>\n",
              "    </tr>\n",
              "  </tbody>\n",
              "</table>\n",
              "</div>"
            ],
            "text/plain": [
              "   id  qid1  ...  is_duplicate cosine_sim\n",
              "0   0     1  ...             0   0.954577\n",
              "1   1     3  ...             0   0.526763\n",
              "2   2     5  ...             0   0.624345\n",
              "3   3     7  ...             0   0.132098\n",
              "4   4     9  ...             0   0.286812\n",
              "5   5    11  ...             1   0.799678\n",
              "6   6    13  ...             0  -0.034585\n",
              "7   7    15  ...             1   0.944617\n",
              "8   8    17  ...             0   0.460974\n",
              "9   9    19  ...             0   0.639556\n",
              "\n",
              "[10 rows x 7 columns]"
            ]
          },
          "metadata": {
            "tags": []
          },
          "execution_count": 15
        }
      ]
    },
    {
      "cell_type": "markdown",
      "metadata": {
        "id": "imSaXUtUeXF8"
      },
      "source": [
        "Visualize cosine-similarity score vs duplicate"
      ]
    },
    {
      "cell_type": "code",
      "metadata": {
        "trusted": true,
        "colab": {
          "base_uri": "https://localhost:8080/",
          "height": 421
        },
        "id": "KQ6MfNKneXF8",
        "outputId": "f06dc560-1879-4aba-8e3c-3a2eeca9e88e"
      },
      "source": [
        "is_duplicated = df['is_duplicate'].tolist()\n",
        "duplicate_idx = [i for i,v in enumerate(is_duplicated) if v==1]\n",
        "non_duplicate_idx = [i for i,v in enumerate(is_duplicated) if v==0]\n",
        "\n",
        "cosine_sim_duplicate = [cosine_sim[idx] for idx in duplicate_idx]\n",
        "cosine_sim_nonduplicate = [cosine_sim[idx] for idx in non_duplicate_idx]\n",
        "\n",
        "plt.figure(figsize=(12, 5))\n",
        "# plt.yscale('log')\n",
        "plt.hist([cosine_sim_duplicate, cosine_sim_nonduplicate], bins=30, label=['duplicate', 'non-duplicate'])\n",
        "plt.title(\"Histogram of pair's consine similarity\")\n",
        "plt.xlabel('cosine similarity')\n",
        "plt.ylabel('count')\n",
        "print()"
      ],
      "execution_count": null,
      "outputs": [
        {
          "output_type": "stream",
          "text": [
            "/usr/local/lib/python3.7/dist-packages/numpy/core/_asarray.py:83: VisibleDeprecationWarning: Creating an ndarray from ragged nested sequences (which is a list-or-tuple of lists-or-tuples-or ndarrays with different lengths or shapes) is deprecated. If you meant to do this, you must specify 'dtype=object' when creating the ndarray\n",
            "  return array(a, dtype, copy=False, order=order)\n"
          ],
          "name": "stderr"
        },
        {
          "output_type": "stream",
          "text": [
            "\n"
          ],
          "name": "stdout"
        },
        {
          "output_type": "display_data",
          "data": {
            "image/png": "[encoded data removed]",
            "text/plain": [
              "<Figure size 864x360 with 1 Axes>"
            ]
          },
          "metadata": {
            "tags": [],
            "needs_background": "light"
          }
        }
      ]
    },
    {
      "cell_type": "code",
      "metadata": {
        "scrolled": true,
        "trusted": true,
        "id": "OYyRBZIEeXF9"
      },
      "source": [
        "cross_encoder = CrossEncoder('cross-encoder/quora-distilroberta-base')\n",
        "\n",
        "sub_set2_size = 100 if sub_set_size > 100 else sub_set_size\n",
        "total_subset = len(df) // sub_set2_size\n",
        "\n",
        "t00 = perf_counter()\n",
        "cross_sim = []\n",
        "for g, sub_df in df.groupby(np.arange(len(df)) // sub_set2_size):\n",
        "\n",
        "    t0 = perf_counter()\n",
        "\n",
        "    sub_cleaned_q1 = [clean_text(q) for q in sub_df['question1']]\n",
        "    sub_cleaned_q2 = [clean_text(q) for q in sub_df['question2']]\n",
        "    sentence_combinations = [[q1, q2] for q1,q2 in zip(sub_cleaned_q1, sub_cleaned_q2)]\n",
        "\n",
        "    cross_scores = cross_encoder.predict(sentence_combinations)\n",
        "    sub_cross_sim = [cross.item() for cross in cross_scores]\n",
        "\n",
        "    t1 = perf_counter()\n",
        "    print(\"subset cross encoder {}/{} {} process in {:.4f} seconds\".format(g, total_subset, sub_df.shape, t1 - t0))\n",
        "    cross_sim.extend(sub_cross_sim)\n",
        "\n",
        "t0z = perf_counter()\n",
        "print(\"Total time {:.4f} seconds\".format(t0z - t00))\n",
        "df['cross_sim'] = cross_sim\n",
        "df.head(10)"
      ],
      "execution_count": null,
      "outputs": []
    },
    {
      "cell_type": "code",
      "metadata": {
        "trusted": true,
        "colab": {
          "base_uri": "https://localhost:8080/",
          "height": 421
        },
        "id": "0R6yDNcHeXGD",
        "outputId": "1302a838-274e-4ac6-bd9d-30b387c3f5e8"
      },
      "source": [
        "cross_sim_duplicate = [cross_sim[idx] for idx in duplicate_idx]\n",
        "cross_sim_nonduplicate = [cross_sim[idx] for idx in non_duplicate_idx]\n",
        "\n",
        "plt.figure(figsize=(12, 5))\n",
        "# plt.yscale('log')\n",
        "plt.hist([cross_sim_duplicate, cross_sim_nonduplicate], bins=30, label=['duplicate', 'non-duplicate'])\n",
        "plt.title(\"Histogram of pair's consine similarity\")\n",
        "plt.xlabel('cross similarity')\n",
        "plt.ylabel('count')\n",
        "print()"
      ],
      "execution_count": null,
      "outputs": [
        {
          "output_type": "stream",
          "text": [
            "/usr/local/lib/python3.7/dist-packages/numpy/core/_asarray.py:83: VisibleDeprecationWarning: Creating an ndarray from ragged nested sequences (which is a list-or-tuple of lists-or-tuples-or ndarrays with different lengths or shapes) is deprecated. If you meant to do this, you must specify 'dtype=object' when creating the ndarray\n",
            "  return array(a, dtype, copy=False, order=order)\n"
          ],
          "name": "stderr"
        },
        {
          "output_type": "stream",
          "text": [
            "\n"
          ],
          "name": "stdout"
        },
        {
          "output_type": "display_data",
          "data": {
            "image/png": "[encoded data removed]",
            "text/plain": [
              "<Figure size 864x360 with 1 Axes>"
            ]
          },
          "metadata": {
            "tags": [],
            "needs_background": "light"
          }
        }
      ]
    },
    {
      "cell_type": "markdown",
      "metadata": {
        "id": "1Lo445d1eXGF"
      },
      "source": [
        "## Modeling\n",
        "\n",
        "Find the model to fit cross-similarity to is_duplicate:\n",
        "- Using `LogisticRegression`\n",
        "- evaluate model with [LogLoss](https://scikit-learn.org/stable/modules/generated/sklearn.metrics.log_loss.html)"
      ]
    },
    {
      "cell_type": "code",
      "metadata": {
        "trusted": true,
        "id": "-1hs8O13eXGG"
      },
      "source": [
        "compression_opts = dict(method='zip', archive_name='train.csv') \n",
        "df.to_csv('/gdrive/MyDrive/Colab Notebooks/data/quora/output/train.csv.zip', index=False, compression=compression_opts)"
      ],
      "execution_count": null,
      "outputs": []
    },
    {
      "cell_type": "code",
      "metadata": {
        "id": "HmfCM1gu9pcd",
        "colab": {
          "base_uri": "https://localhost:8080/",
          "height": 376
        },
        "outputId": "36a1b4fc-cd05-4644-abc9-98f8243be97f"
      },
      "source": [
        "from google.colab import drive\n",
        "drive.mount('/gdrive')\n",
        "\n",
        "import numpy as np\n",
        "import pandas as pd\n",
        "import os\n",
        "\n",
        "# open exported file\n",
        "df = pd.read_csv('/gdrive/MyDrive/Colab Notebooks/data/quora/output/train.csv.zip', compression='zip', sep=',')\n",
        "df.head(10)"
      ],
      "execution_count": 1,
      "outputs": [
        {
          "output_type": "stream",
          "text": [
            "Mounted at /gdrive\n"
          ],
          "name": "stdout"
        },
        {
          "output_type": "execute_result",
          "data": {
            "text/html": [
              "<div>\n",
              "<style scoped>\n",
              "    .dataframe tbody tr th:only-of-type {\n",
              "        vertical-align: middle;\n",
              "    }\n",
              "\n",
              "    .dataframe tbody tr th {\n",
              "        vertical-align: top;\n",
              "    }\n",
              "\n",
              "    .dataframe thead th {\n",
              "        text-align: right;\n",
              "    }\n",
              "</style>\n",
              "<table border=\"1\" class=\"dataframe\">\n",
              "  <thead>\n",
              "    <tr style=\"text-align: right;\">\n",
              "      <th></th>\n",
              "      <th>id</th>\n",
              "      <th>qid1</th>\n",
              "      <th>qid2</th>\n",
              "      <th>question1</th>\n",
              "      <th>question2</th>\n",
              "      <th>is_duplicate</th>\n",
              "      <th>cosine_sim</th>\n",
              "      <th>cross_sim</th>\n",
              "    </tr>\n",
              "  </thead>\n",
              "  <tbody>\n",
              "    <tr>\n",
              "      <th>0</th>\n",
              "      <td>0</td>\n",
              "      <td>1</td>\n",
              "      <td>2</td>\n",
              "      <td>What is the step by step guide to invest in sh...</td>\n",
              "      <td>What is the step by step guide to invest in sh...</td>\n",
              "      <td>0</td>\n",
              "      <td>0.954577</td>\n",
              "      <td>0.007003</td>\n",
              "    </tr>\n",
              "    <tr>\n",
              "      <th>1</th>\n",
              "      <td>1</td>\n",
              "      <td>3</td>\n",
              "      <td>4</td>\n",
              "      <td>What is the story of Kohinoor (Koh-i-Noor) Dia...</td>\n",
              "      <td>What would happen if the Indian government sto...</td>\n",
              "      <td>0</td>\n",
              "      <td>0.526763</td>\n",
              "      <td>0.000424</td>\n",
              "    </tr>\n",
              "    <tr>\n",
              "      <th>2</th>\n",
              "      <td>2</td>\n",
              "      <td>5</td>\n",
              "      <td>6</td>\n",
              "      <td>How can I increase the speed of my internet co...</td>\n",
              "      <td>How can Internet speed be increased by hacking...</td>\n",
              "      <td>0</td>\n",
              "      <td>0.624345</td>\n",
              "      <td>0.000874</td>\n",
              "    </tr>\n",
              "    <tr>\n",
              "      <th>3</th>\n",
              "      <td>3</td>\n",
              "      <td>7</td>\n",
              "      <td>8</td>\n",
              "      <td>Why am I mentally very lonely? How can I solve...</td>\n",
              "      <td>Find the remainder when [math]23^{24}[/math] i...</td>\n",
              "      <td>0</td>\n",
              "      <td>0.132098</td>\n",
              "      <td>0.000243</td>\n",
              "    </tr>\n",
              "    <tr>\n",
              "      <th>4</th>\n",
              "      <td>4</td>\n",
              "      <td>9</td>\n",
              "      <td>10</td>\n",
              "      <td>Which one dissolve in water quikly sugar, salt...</td>\n",
              "      <td>Which fish would survive in salt water?</td>\n",
              "      <td>0</td>\n",
              "      <td>0.286812</td>\n",
              "      <td>0.000241</td>\n",
              "    </tr>\n",
              "    <tr>\n",
              "      <th>5</th>\n",
              "      <td>5</td>\n",
              "      <td>11</td>\n",
              "      <td>12</td>\n",
              "      <td>Astrology: I am a Capricorn Sun Cap moon and c...</td>\n",
              "      <td>I'm a triple Capricorn (Sun, Moon and ascendan...</td>\n",
              "      <td>1</td>\n",
              "      <td>0.799678</td>\n",
              "      <td>0.983176</td>\n",
              "    </tr>\n",
              "    <tr>\n",
              "      <th>6</th>\n",
              "      <td>6</td>\n",
              "      <td>13</td>\n",
              "      <td>14</td>\n",
              "      <td>Should I buy tiago?</td>\n",
              "      <td>What keeps childern active and far from phone ...</td>\n",
              "      <td>0</td>\n",
              "      <td>-0.034585</td>\n",
              "      <td>0.000297</td>\n",
              "    </tr>\n",
              "    <tr>\n",
              "      <th>7</th>\n",
              "      <td>7</td>\n",
              "      <td>15</td>\n",
              "      <td>16</td>\n",
              "      <td>How can I be a good geologist?</td>\n",
              "      <td>What should I do to be a great geologist?</td>\n",
              "      <td>1</td>\n",
              "      <td>0.944617</td>\n",
              "      <td>0.988464</td>\n",
              "    </tr>\n",
              "    <tr>\n",
              "      <th>8</th>\n",
              "      <td>8</td>\n",
              "      <td>17</td>\n",
              "      <td>18</td>\n",
              "      <td>When do you use シ instead of し?</td>\n",
              "      <td>When do you use \"&amp;\" instead of \"and\"?</td>\n",
              "      <td>0</td>\n",
              "      <td>0.460974</td>\n",
              "      <td>0.000365</td>\n",
              "    </tr>\n",
              "    <tr>\n",
              "      <th>9</th>\n",
              "      <td>9</td>\n",
              "      <td>19</td>\n",
              "      <td>20</td>\n",
              "      <td>Motorola (company): Can I hack my Charter Moto...</td>\n",
              "      <td>How do I hack Motorola DCX3400 for free internet?</td>\n",
              "      <td>0</td>\n",
              "      <td>0.639556</td>\n",
              "      <td>0.878037</td>\n",
              "    </tr>\n",
              "  </tbody>\n",
              "</table>\n",
              "</div>"
            ],
            "text/plain": [
              "   id  qid1  qid2  ... is_duplicate cosine_sim  cross_sim\n",
              "0   0     1     2  ...            0   0.954577   0.007003\n",
              "1   1     3     4  ...            0   0.526763   0.000424\n",
              "2   2     5     6  ...            0   0.624345   0.000874\n",
              "3   3     7     8  ...            0   0.132098   0.000243\n",
              "4   4     9    10  ...            0   0.286812   0.000241\n",
              "5   5    11    12  ...            1   0.799678   0.983176\n",
              "6   6    13    14  ...            0  -0.034585   0.000297\n",
              "7   7    15    16  ...            1   0.944617   0.988464\n",
              "8   8    17    18  ...            0   0.460974   0.000365\n",
              "9   9    19    20  ...            0   0.639556   0.878037\n",
              "\n",
              "[10 rows x 8 columns]"
            ]
          },
          "metadata": {
            "tags": []
          },
          "execution_count": 1
        }
      ]
    },
    {
      "cell_type": "code",
      "metadata": {
        "trusted": true,
        "id": "BKUG3o39eXGF",
        "colab": {
          "base_uri": "https://localhost:8080/",
          "height": 0
        },
        "outputId": "2df58842-fc0d-4425-9516-7a5ac34651f4"
      },
      "source": [
        "from sklearn.model_selection import train_test_split, KFold\n",
        "from sklearn.linear_model import LogisticRegression\n",
        "X = np.array(df['cosine_sim'])\n",
        "X = X.reshape(-1,1)\n",
        "y = np.array(df['is_duplicate'])\n",
        "\n",
        "lr_model = LogisticRegression()\n",
        "\n",
        "from sklearn.metrics import log_loss\n",
        "scores = []\n",
        "for i in range(10):\n",
        "    X_train, X_test, y_train, y_test = train_test_split(X, y, test_size=0.2)\n",
        "    lr_model.fit(X_train, y_train)\n",
        "    y_pred = lr_model .predict(X_test)\n",
        "    print(lr_model.coef_, lr_model.intercept_)\n",
        "    print(log_loss(y_test, y_pred))\n",
        "    fit = 0\n",
        "    for yt, yp in zip(y_test, y_pred):\n",
        "        fit += 1 if yt==yp else 0\n",
        "    scores.append(fit/len(y_test))\n",
        "print(\"AVG Acuracy\", np.average(scores))"
      ],
      "execution_count": 6,
      "outputs": [
        {
          "output_type": "stream",
          "text": [
            "[[9.24881315]] [-7.22201531]\n",
            "8.16641876758657\n",
            "[[9.20466302]] [-7.1864161]\n",
            "8.027165555080261\n",
            "[[9.20422903]] [-7.1894045]\n",
            "8.087820103780468\n",
            "[[9.26999603]] [-7.23784242]\n",
            "8.256549200897481\n",
            "[[9.22834066]] [-7.20526873]\n",
            "8.098500562657156\n",
            "[[9.23587423]] [-7.2105224]\n",
            "8.11729575105735\n",
            "[[9.2252978]] [-7.20365828]\n",
            "8.114731791818938\n",
            "[[9.23822823]] [-7.21170661]\n",
            "8.114305933782237\n",
            "[[9.20735278]] [-7.1897478]\n",
            "8.069453255533213\n",
            "[[9.21428763]] [-7.19570908]\n",
            "8.059628992405848\n",
            "AVG Acuracy 0.7651599099656188\n"
          ],
          "name": "stdout"
        }
      ]
    },
    {
      "cell_type": "markdown",
      "metadata": {
        "id": "FG8kvaLIS6UB"
      },
      "source": [
        "## Model Evaluation and Validation\n",
        "\n",
        "## Deploy model\n",
        "\n",
        "See the example\n",
        "https://semantic-similarity-search.netlify.app/search?random&alt\n",
        "\n",
        "## Conclusion\n",
        "- 76% accuray but log loss is not not good enough\n",
        "- Need to investigate more on how to improve the model, see discussion in [kaggle](https://www.kaggle.com/c/quora-question-pairs/discussion/30340)"
      ]
    }
  ]
}