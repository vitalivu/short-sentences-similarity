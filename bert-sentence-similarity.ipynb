{
 "cells": [
  {
   "cell_type": "markdown",
   "metadata": {},
   "source": [
    "# Import the Libraries"
   ]
  },
  {
   "cell_type": "code",
   "execution_count": 1,
   "metadata": {},
   "outputs": [],
   "source": [
    "# vizualization library\n",
    "import matplotlib.pyplot as plt\n",
    "import numpy as np\n",
    "\n",
    "# pytorch library\n",
    "import torch # the main pytorch library\n",
    "import torch.nn.functional as f # the sub-library containing different functions for manipulating with tensors\n",
    "\n",
    "# huggingface's transformers library\n",
    "from transformers import BertModel, BertTokenizer"
   ]
  },
  {
   "cell_type": "markdown",
   "metadata": {},
   "source": [
    "# Setting the Device\n",
    "\n",
    "With `pytorch` we are able to move the python calculations to the GPU. To do this we define the `device` on which we wish to run the calculations. Depending if `cuda` (the GPU drivers that enable running calculations on the graphic card) is enabled on the machine, we define the device as follows:"
   ]
  },
  {
   "cell_type": "code",
   "execution_count": 2,
   "metadata": {},
   "outputs": [],
   "source": [
    "device = torch.device(\"cuda\" if torch.cuda.is_available() else \"cpu\")"
   ]
  },
  {
   "cell_type": "markdown",
   "metadata": {},
   "source": [
    "# Import BERT Tokenizer and Model\n",
    "\n",
    "Now we will import a pretrained BERT model from Hugging Face. There are a lot of different BERT models that were trained with different hyperparameters and tasks. A full list of official models is available [here][pretrained], but there are also a lot of models that are uploaded by the [community][community].\n",
    "\n",
    "In this notebook we will use the `bert-large-cased` model. To use it we will need to import both the `tokenizer` and the `model`: The `tokenizer` will enable us to transform strings into tensors that can be then sent to the `model`, which in turn will give us the embeddings.\n",
    "\n",
    "[pretrained]: https://huggingface.co/transformers/pretrained_models.html\n",
    "[community]: https://huggingface.co/models"
   ]
  },
  {
   "cell_type": "code",
   "execution_count": 3,
   "metadata": {},
   "outputs": [
    {
     "data": {
      "application/vnd.jupyter.widget-view+json": {
       "model_id": "2fb4ea8e530245178e8a66d2ffb37b93",
       "version_major": 2,
       "version_minor": 0
      },
      "text/plain": [
       "HBox(children=(FloatProgress(value=0.0, description='Downloading', max=213450.0, style=ProgressStyle(descripti…"
      ]
     },
     "metadata": {},
     "output_type": "display_data"
    },
    {
     "name": "stdout",
     "output_type": "stream",
     "text": [
      "\n"
     ]
    },
    {
     "data": {
      "application/vnd.jupyter.widget-view+json": {
       "model_id": "df343e062aff4092b220ab1287844e93",
       "version_major": 2,
       "version_minor": 0
      },
      "text/plain": [
       "HBox(children=(FloatProgress(value=0.0, description='Downloading', max=762.0, style=ProgressStyle(description_…"
      ]
     },
     "metadata": {},
     "output_type": "display_data"
    },
    {
     "name": "stdout",
     "output_type": "stream",
     "text": [
      "\n"
     ]
    },
    {
     "data": {
      "application/vnd.jupyter.widget-view+json": {
       "model_id": "c1c1785487f049088096e87e9e45fc31",
       "version_major": 2,
       "version_minor": 0
      },
      "text/plain": [
       "HBox(children=(FloatProgress(value=0.0, description='Downloading', max=1338740706.0, style=ProgressStyle(descr…"
      ]
     },
     "metadata": {},
     "output_type": "display_data"
    },
    {
     "name": "stdout",
     "output_type": "stream",
     "text": [
      "\n"
     ]
    }
   ],
   "source": [
    "bert_version = 'bert-large-cased'\n",
    "tokenizer = BertTokenizer.from_pretrained(bert_version)\n",
    "model = BertModel.from_pretrained(bert_version)"
   ]
  },
  {
   "cell_type": "markdown",
   "metadata": {},
   "source": [
    "Each model has two states:\n",
    "\n",
    "- `train`. If the model is in this state it is configured for training Components such as `Dropout` and other that have been found to improve the models performance are active in this mode.\n",
    "- `eval`. If the model is in this state it is configured for production. Components such as `Dropout` are deactivated, since they are used only when training the model.\n",
    "\n",
    "If the model is only going to be used in production, then set the model to `eval`. If the model is first going to be fine-tuned, set the model to `train`. After training, set the model to `eval`.  **NOTE:** It is good practice to specify the models state before using it.\n",
    "\n",
    "In this notebook we will not train the model, that is why we will set it to `eval`."
   ]
  },
  {
   "cell_type": "code",
   "execution_count": 4,
   "metadata": {},
   "outputs": [],
   "source": [
    "model = model.eval()"
   ]
  },
  {
   "cell_type": "markdown",
   "metadata": {},
   "source": [
    "Now, let us specify where the model will do its calculations. We already defined the `device` in the previous lines so lets use that:"
   ]
  },
  {
   "cell_type": "code",
   "execution_count": 29,
   "metadata": {},
   "outputs": [],
   "source": [
    "# the .to method allows us to move the model to the provided device\n",
    "model = model.to(device)"
   ]
  },
  {
   "cell_type": "markdown",
   "metadata": {},
   "source": [
    "# BERT Tokenizer\n",
    "\n",
    "The tokenizer transforms a string into lists, tensors, etc. which can be used as the input of the model. Different tokenizers have different inputs. The BERT tokenizer takes the following inputs:\n",
    "\n",
    "- **text.** The sequence or batch of sequences to be encoded.\n",
    "- **text_pair.** The OTHER sequence of batch of sequences to be encoded (used for next sentence prediction). (Default: None)\n",
    "- **padding.** Activates and controls padding. If True, pad to the longest sequence in the batch (or no padding if only a single sequence is provided). *Other options are also available.* (Default: False)\n",
    "- **truncation.** Activates and controls truncation. If True, Truncate to a maximum length specified with the `max_length` argument. (Default: False)\n",
    "- **max_length.** Controls the maximum length to use by one of the truncation/padding parameters.\n",
    "- **return_tensors.** If set, will return tensors instead of list of python integers.\n",
    "\n",
    "The full documentation of the BERT tokenizer can be found [here][tokenizer]. **NOTE:** The BERT tokenizer inherits from the `PreTrainedTokenizer` class, which is documented [here][pretrained].\n",
    "\n",
    "\n",
    "**DISCLAIMER:** In this notebook we use the BERT tokenizer. Different models use different tokenizers. For instance, to use the `RoBERTa` model we would need to import the `RobertaTokenizer` which will transform the text in a different way. **Consult the `transformers` documentation on which tokenizer to use.**\n",
    "\n",
    "[tokenizer]: https://huggingface.co/transformers/model_doc/bert.html#berttokenizer\n",
    "[pretrained]: https://huggingface.co/transformers/main_classes/tokenizer.html#transformers.PreTrainedTokenizer"
   ]
  },
  {
   "cell_type": "markdown",
   "metadata": {},
   "source": [
    "We have have the following sentences for which we want to measure their similarities. While the first two sentences are semantically similar, the third sentence could be considered as random."
   ]
  },
  {
   "cell_type": "code",
   "execution_count": 30,
   "metadata": {},
   "outputs": [],
   "source": [
    "texts  = [\n",
    "    'Obama speaks to the media in Illinois',\n",
    "    'The president greets the press in Chicago',\n",
    "    'Oranges are my favorite fruit',\n",
    "]"
   ]
  },
  {
   "cell_type": "markdown",
   "metadata": {},
   "source": [
    "Get the encodings of the sentences. Since the sentences are of different lenghts we set the `padding` parameter to `True` which will pad the shorter sentences. We also set the `return_tensors` to `'pt'` so that we get the `pytorch` tensors instead of python lists."
   ]
  },
  {
   "cell_type": "code",
   "execution_count": 7,
   "metadata": {},
   "outputs": [],
   "source": [
    "encodings = tokenizer(\n",
    "    texts, # the texts to be tokenized\n",
    "    padding=True, # pad the texts to the maximum length (so that all outputs have the same length)\n",
    "    return_tensors='pt' # return the tensors (not lists)\n",
    ")"
   ]
  },
  {
   "cell_type": "markdown",
   "metadata": {},
   "source": [
    "**The input tensors need to be on the same device as the model.** In order for us to use the BERT model to get the sentence embeddings we must first move the input tensors to the same device as the model."
   ]
  },
  {
   "cell_type": "code",
   "execution_count": 8,
   "metadata": {},
   "outputs": [],
   "source": [
    "encodings = encodings.to(device)"
   ]
  },
  {
   "cell_type": "markdown",
   "metadata": {},
   "source": [
    "The BERT tokenizer returns three values:\n",
    "\n",
    "- **input_ids.** The list/tensor of token ids for each sentence. The id `101` represents the class token `[CLS]`, `102` represents the separator token `[SEP]`, and `0` represents the padding token `[PAD]`.\n",
    "- **attention_mask.** This list/tensor represents which ids to use when generating the tokens (e.g. ignores the `[PAD]` tokens).\n",
    "- **token_type_ids.** This list/tensor represents which tokens correspond to the first and second sentence (used for next sentence prediction)."
   ]
  },
  {
   "cell_type": "code",
   "execution_count": 9,
   "metadata": {},
   "outputs": [
    {
     "data": {
      "text/plain": [
       "dict_keys(['input_ids', 'token_type_ids', 'attention_mask'])"
      ]
     },
     "execution_count": 9,
     "metadata": {},
     "output_type": "execute_result"
    }
   ],
   "source": [
    "encodings.keys()"
   ]
  },
  {
   "cell_type": "code",
   "execution_count": 10,
   "metadata": {},
   "outputs": [
    {
     "data": {
      "text/plain": [
       "tensor([[  101,  7661,  8917,  1106,  1103,  2394,  1107,  3461,   102,     0],\n",
       "        [  101,  1109,  2084, 18884,  1116,  1103,  3181,  1107,  2290,   102],\n",
       "        [  101,  6309,  1116,  1132,  1139,  5095,  5735,   102,     0,     0]])"
      ]
     },
     "execution_count": 10,
     "metadata": {},
     "output_type": "execute_result"
    }
   ],
   "source": [
    "encodings['input_ids']"
   ]
  },
  {
   "cell_type": "code",
   "execution_count": 11,
   "metadata": {},
   "outputs": [
    {
     "data": {
      "text/plain": [
       "tensor([[1, 1, 1, 1, 1, 1, 1, 1, 1, 0],\n",
       "        [1, 1, 1, 1, 1, 1, 1, 1, 1, 1],\n",
       "        [1, 1, 1, 1, 1, 1, 1, 1, 0, 0]])"
      ]
     },
     "execution_count": 11,
     "metadata": {},
     "output_type": "execute_result"
    }
   ],
   "source": [
    "encodings['attention_mask']"
   ]
  },
  {
   "cell_type": "code",
   "execution_count": 12,
   "metadata": {},
   "outputs": [
    {
     "data": {
      "text/plain": [
       "tensor([[0, 0, 0, 0, 0, 0, 0, 0, 0, 0],\n",
       "        [0, 0, 0, 0, 0, 0, 0, 0, 0, 0],\n",
       "        [0, 0, 0, 0, 0, 0, 0, 0, 0, 0]])"
      ]
     },
     "execution_count": 12,
     "metadata": {},
     "output_type": "execute_result"
    }
   ],
   "source": [
    "encodings['token_type_ids']"
   ]
  },
  {
   "cell_type": "markdown",
   "metadata": {},
   "source": [
    "## WordPiece\n",
    "\n",
    "The BERT model uses the [WordPiece tokenizer][wordpiece].\n",
    "\n",
    "Lets convert the ids into tokens and output their representaitons.\n",
    "\n",
    "[wordpiece]: https://huggingface.co/transformers/v3.5.1/tokenizer_summary.html#wordpiece"
   ]
  },
  {
   "cell_type": "code",
   "execution_count": 13,
   "metadata": {},
   "outputs": [
    {
     "name": "stdout",
     "output_type": "stream",
     "text": [
      "['[CLS]', 'Obama', 'speaks', 'to', 'the', 'media', 'in', 'Illinois', '[SEP]', '[PAD]']\n",
      "['[CLS]', 'The', 'president', 'greet', '##s', 'the', 'press', 'in', 'Chicago', '[SEP]']\n",
      "['[CLS]', 'Orange', '##s', 'are', 'my', 'favorite', 'fruit', '[SEP]', '[PAD]', '[PAD]']\n"
     ]
    }
   ],
   "source": [
    "for tokens in encodings['input_ids']:\n",
    "    print(tokenizer.convert_ids_to_tokens(tokens))"
   ]
  },
  {
   "cell_type": "markdown",
   "metadata": {},
   "source": [
    "# Embeddings\n",
    "\n",
    "In order to get the token embeddings we will send the encodings through the model. Pytorch by default calculates the gradients for every layer of the model which is really handy when training the model but not when we want to use it in production. **Gradients take additional space on CPU or GPU which you don't want to populate with things you don't need.**\n",
    "\n",
    "We can disable gradient calculation by adding the `with torch.no_grad():` before the model.\n"
   ]
  },
  {
   "cell_type": "code",
   "execution_count": 14,
   "metadata": {},
   "outputs": [],
   "source": [
    "# disable gradient calculations\n",
    "with torch.no_grad():\n",
    "    # get the model embeddings\n",
    "    embeds = model(**encodings)"
   ]
  },
  {
   "cell_type": "markdown",
   "metadata": {},
   "source": [
    "The output of the model is a tuple of tensors:\n",
    "\n",
    "- The first tensor (`embeds[0]`) contains the embeddings of the sentence tokens.\n",
    "- The second tensor (`embeds[1]`) contains the embeddings of the `[CLS]` token that can be then sent further to train the next sentence prediction. We won't use this tensor in this notebook."
   ]
  },
  {
   "cell_type": "code",
   "execution_count": 15,
   "metadata": {},
   "outputs": [],
   "source": [
    "embeds = embeds[0]"
   ]
  },
  {
   "cell_type": "code",
   "execution_count": 16,
   "metadata": {},
   "outputs": [
    {
     "data": {
      "text/plain": [
       "tensor([[[ 0.0674, -0.6799, -0.0995,  ..., -0.7554, -0.1278, -0.0802],\n",
       "         [-0.0692, -0.8303,  0.1546,  ...,  0.0585,  0.4058, -0.4544],\n",
       "         [ 0.3453,  0.4382, -0.1015,  ...,  1.0000,  0.0899, -0.3750],\n",
       "         ...,\n",
       "         [-0.3001, -0.2914, -0.4403,  ..., -0.2097,  0.0924,  0.2608],\n",
       "         [ 0.1587, -0.9241, -0.2980,  ..., -1.0242,  0.0539, -0.5048],\n",
       "         [-0.1048,  0.2301, -0.4866,  ..., -0.1824, -0.4323, -0.2062]],\n",
       "\n",
       "        [[-0.0607, -0.6513,  0.0976,  ..., -0.5838, -0.2506, -0.0793],\n",
       "         [-0.7293, -0.8764,  0.1441,  ..., -0.1109,  0.2422, -0.4569],\n",
       "         [-0.6750,  0.2065, -0.0833,  ..., -0.2243, -0.4838, -0.5572],\n",
       "         ...,\n",
       "         [ 0.7558,  0.8281, -0.1101,  ...,  0.1019,  0.1509, -1.0411],\n",
       "         [-0.1496,  0.0602, -0.5405,  ..., -0.1065, -0.0799, -0.0631],\n",
       "         [-0.2964, -0.7394, -0.2699,  ..., -0.6030, -0.0724, -0.8694]],\n",
       "\n",
       "        [[-0.5826, -0.4716,  0.3686,  ..., -0.3705, -0.7758, -0.1986],\n",
       "         [-0.5181, -0.6193, -0.2700,  ..., -0.0553, -0.1134, -0.4642],\n",
       "         [-0.2308,  1.0512, -0.4223,  ...,  0.0664, -0.5218, -0.6186],\n",
       "         ...,\n",
       "         [ 0.0261, -0.0109, -0.4595,  ...,  0.2562, -0.6804, -1.0793],\n",
       "         [-0.1649, -0.2430, -0.1076,  ..., -0.3561, -0.5212, -0.3213],\n",
       "         [-0.0730, -0.2838, -0.0656,  ..., -0.4299, -0.5175, -0.3214]]])"
      ]
     },
     "execution_count": 16,
     "metadata": {},
     "output_type": "execute_result"
    }
   ],
   "source": [
    "embeds"
   ]
  },
  {
   "cell_type": "code",
   "execution_count": 17,
   "metadata": {},
   "outputs": [
    {
     "data": {
      "text/plain": [
       "torch.Size([3, 10, 1024])"
      ]
     },
     "execution_count": 17,
     "metadata": {},
     "output_type": "execute_result"
    }
   ],
   "source": [
    "# to get the size of the tensor use .shape (similar as with numpy)\n",
    "embeds.shape"
   ]
  },
  {
   "cell_type": "markdown",
   "metadata": {},
   "source": [
    "# Measure the Sentence Similarities\n",
    "\n",
    "Now that we got the sentence token embeddings we will calculate the sentence similarities. We will od this in three ways:\n",
    "\n",
    "- Using the `[CLS]` token embeddings.\n",
    "- Calculating the mean of all sentence token embeddings.\n",
    "- Calculating the max-over-time of the sentence token embeddings.\n",
    "\n",
    "In all three ways we will calculate the sentence similarities using the cosine distance."
   ]
  },
  {
   "cell_type": "code",
   "execution_count": 18,
   "metadata": {},
   "outputs": [],
   "source": [
    "def visualize(distances, figsize=(10, 5), titles=None):\n",
    "    # get the number of columns\n",
    "    ncols = len(distances)\n",
    "    # create the subplot placeholders\n",
    "    fig, ax = plt.subplots(ncols=ncols, figsize=figsize)\n",
    "    \n",
    "    for i in range(ncols):\n",
    "        \n",
    "        # get the axis in which we will draw the matrix\n",
    "        axes = ax[i] if ncols > 1 else ax\n",
    "        \n",
    "        # get the i-th distance\n",
    "        distance = distances[i]\n",
    "        \n",
    "        # create the heatmap\n",
    "        axes.imshow(distance)\n",
    "        \n",
    "        # show the ticks\n",
    "        axes.set_xticks(np.arange(distance.shape[0]))\n",
    "        axes.set_yticks(np.arange(distance.shape[1]))\n",
    "        \n",
    "        # set the tick labels\n",
    "        axes.set_xticklabels(np.arange(distance.shape[0]))\n",
    "        axes.set_yticklabels(np.arange(distance.shape[1]))\n",
    "        \n",
    "        # set the values in the heatmap\n",
    "        for j in range(distance.shape[0]):\n",
    "            for k in range(distance.shape[1]):\n",
    "                text = axes.text(k, j, str(round(distance[j, k], 3)),\n",
    "                               ha=\"center\", va=\"center\", color=\"w\")\n",
    "        \n",
    "        # set the title of the subplot\n",
    "        title = titles[i] if titles and len(titles) > i else \"Text Distance\"\n",
    "        axes.set_title(title, fontsize=\"x-large\")\n",
    "        \n",
    "    fig.tight_layout()\n",
    "    plt.show()"
   ]
  },
  {
   "cell_type": "markdown",
   "metadata": {},
   "source": [
    "# Way 1: Use the [CLS] Embeddings\n",
    "\n",
    "We will take the first embedding representing the `[CLS]` token of all three sentences and calculate the cosine distance."
   ]
  },
  {
   "cell_type": "code",
   "execution_count": 19,
   "metadata": {},
   "outputs": [],
   "source": [
    "CLSs = embeds[:, 0, :]"
   ]
  },
  {
   "cell_type": "code",
   "execution_count": 20,
   "metadata": {},
   "outputs": [],
   "source": [
    "# normalize the CLS token embeddings\n",
    "normalized = f.normalize(CLSs, p=2, dim=1)\n",
    "# calculate the cosine similarity\n",
    "cls_dist = normalized.matmul(normalized.T)\n",
    "cls_dist = cls_dist.new_ones(cls_dist.shape) - cls_dist\n",
    "cls_dist = cls_dist.numpy()"
   ]
  },
  {
   "cell_type": "code",
   "execution_count": 21,
   "metadata": {},
   "outputs": [
    {
     "data": {
      "image/png": "[encoded data removed]",
      "text/plain": [
       "<Figure size 720x360 with 1 Axes>"
      ]
     },
     "metadata": {
      "needs_background": "light"
     },
     "output_type": "display_data"
    }
   ],
   "source": [
    "visualize([cls_dist], titles=[\"CLS\"])"
   ]
  },
  {
   "cell_type": "markdown",
   "metadata": {},
   "source": [
    "# Way 2: Computing the Mean of All Output Vectors\n",
    "\n",
    "We will calculate the mean of all embeddings for each sentence and calculate the cosine distance. To get the means we will use the `.mean` method that is documented [here][mean].\n",
    "\n",
    "[mean]: https://pytorch.org/docs/stable/generated/torch.mean.html#torch.mean"
   ]
  },
  {
   "cell_type": "code",
   "execution_count": 22,
   "metadata": {},
   "outputs": [],
   "source": [
    "MEANS = embeds.mean(dim=1)"
   ]
  },
  {
   "cell_type": "code",
   "execution_count": 23,
   "metadata": {},
   "outputs": [],
   "source": [
    "# normalize the MEANS token embeddings\n",
    "normalized = f.normalize(MEANS, p=2, dim=1)\n",
    "# calculate the cosine similarity\n",
    "mean_dist = normalized.matmul(normalized.T)\n",
    "mean_dist = mean_dist.new_ones(mean_dist.shape) - mean_dist\n",
    "mean_dist = mean_dist.numpy()"
   ]
  },
  {
   "cell_type": "code",
   "execution_count": 24,
   "metadata": {},
   "outputs": [
    {
     "data": {
      "image/png": "[encoded data removed]",
      "text/plain": [
       "<Figure size 720x360 with 1 Axes>"
      ]
     },
     "metadata": {
      "needs_background": "light"
     },
     "output_type": "display_data"
    }
   ],
   "source": [
    "visualize([mean_dist], titles=[\"MEAN\"])"
   ]
  },
  {
   "cell_type": "markdown",
   "metadata": {},
   "source": [
    "# Way 3: Compute the max-over-time of the Output Vectors\n",
    "\n",
    "We will calculate the max-over-time of all embeddings for each sentence and calculate the cosine distance. The max-over-time is basically getting the maximum value for each dimension of the tokens. For example, if a sentence has two tokens:\n",
    "\n",
    "$$\n",
    "t_{1} = \n",
    "\\begin{bmatrix}\n",
    "0.4 \\\\\n",
    "0.7 \\\\\n",
    "\\end{bmatrix}, \\quad\n",
    "t_{2} = \n",
    "\\begin{bmatrix}\n",
    "0.5 \\\\\n",
    "0.2 \\\\\n",
    "\\end{bmatrix},\n",
    "$$\n",
    "then the `max-over-time` would be \n",
    "\n",
    "$$\n",
    "\\max(t_{1},t_{2}) = \n",
    "\\begin{bmatrix}\n",
    "0.5 \\\\\n",
    "0.7 \\\\\n",
    "\\end{bmatrix}.\n",
    "$$\n",
    "\n",
    "\n",
    "we will use the `.max` method that is documented [here][max]. The `.max` method returns a tuple where the first value is a tensor of maximum values based on the `dim` argument, and the second value are the indices of the index location of each maximum value found (`argmax`).\n",
    "\n",
    "[max]: https://pytorch.org/docs/stable/generated/torch.max.html#torch.max\n"
   ]
  },
  {
   "cell_type": "code",
   "execution_count": 25,
   "metadata": {},
   "outputs": [],
   "source": [
    "MAXS, _ = embeds.max(dim=1)"
   ]
  },
  {
   "cell_type": "code",
   "execution_count": 26,
   "metadata": {},
   "outputs": [],
   "source": [
    "# normalize the MEANS token embeddings\n",
    "normalized = f.normalize(MAXS, p=2, dim=1)\n",
    "# calculate the cosine similarity\n",
    "max_dist = normalized.matmul(normalized.T)\n",
    "max_dist = max_dist.new_ones(max_dist.shape) - max_dist\n",
    "max_dist = max_dist.numpy()"
   ]
  },
  {
   "cell_type": "code",
   "execution_count": 27,
   "metadata": {},
   "outputs": [
    {
     "data": {
      "image/png": "[encoded data removed]",
      "text/plain": [
       "<Figure size 720x360 with 1 Axes>"
      ]
     },
     "metadata": {
      "needs_background": "light"
     },
     "output_type": "display_data"
    }
   ],
   "source": [
    "visualize([max_dist], titles=[\"MAX\"])"
   ]
  },
  {
   "cell_type": "markdown",
   "metadata": {},
   "source": [
    "# Compare the Distances\n",
    "\n",
    "Now lets visualize all three distances. We see that all three approaches are able to measure the semantic similarity. Which one to take depends on the task that you are interested in."
   ]
  },
  {
   "cell_type": "code",
   "execution_count": 28,
   "metadata": {},
   "outputs": [
    {
     "data": {
      "image/png": "[encoded data removed]",
      "text/plain": [
       "<Figure size 720x360 with 3 Axes>"
      ]
     },
     "metadata": {
      "needs_background": "light"
     },
     "output_type": "display_data"
    }
   ],
   "source": [
    "dist = [cls_dist, mean_dist, max_dist]\n",
    "titles = [\"CLS\", \"MEAN\", \"MAX\"]\n",
    "visualize(dist, titles=titles)"
   ]
  }
 ],
 "metadata": {
  "kernelspec": {
   "display_name": "Python 3",
   "language": "python",
   "name": "python3"
  },
  "language_info": {
   "codemirror_mode": {
    "name": "ipython",
    "version": 3
   },
   "file_extension": ".py",
   "mimetype": "text/x-python",
   "name": "python",
   "nbconvert_exporter": "python",
   "pygments_lexer": "ipython3",
   "version": "3.8.7"
  }
 },
 "nbformat": 4,
 "nbformat_minor": 4
}
