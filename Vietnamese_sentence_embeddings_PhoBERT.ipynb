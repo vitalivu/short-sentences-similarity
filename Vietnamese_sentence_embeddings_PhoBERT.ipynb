{
  "nbformat": 4,
  "nbformat_minor": 0,
  "metadata": {
    "colab": {
      "name": "Vietnamese sentence embeddings - PhoBERT.ipynb",
      "provenance": [],
      "collapsed_sections": [],
      "mount_file_id": "1tM0dvGU3FHkan7bymo-ri4z_UrJCzlh2",
      "authorship_tag": "ABX9TyM/9WqGH3orNskkrxZrncEU",
      "include_colab_link": true
    },
    "kernelspec": {
      "name": "python3",
      "display_name": "Python 3"
    },
    "language_info": {
      "name": "python"
    }
  },
  "cells": [
    {
      "cell_type": "markdown",
      "metadata": {
        "id": "view-in-github",
        "colab_type": "text"
      },
      "source": [
        "<a href=\"https://colab.research.google.com/github/vitalivu/short-sentences-similarity/blob/master/Vietnamese_sentence_embeddings_PhoBERT.ipynb\" target=\"_parent\"><img src=\"https://colab.research.google.com/assets/colab-badge.svg\" alt=\"Open In Colab\"/></a>"
      ]
    },
    {
      "cell_type": "markdown",
      "metadata": {
        "id": "atbQzaf4E__k"
      },
      "source": [
        "# Tóm tắt\n",
        "\n",
        "Dựa trên bài báo [Sentence-BERT: Sentence Embeddings using Siamese BERT-Networks](https://arxiv.org/abs/1908.10084). Áp dụng để tính toán mức độ tương tự về ngữ nghĩa của câu trong Tiếng Việt.\n",
        "\n",
        "\n",
        "# Các thư viện được sử dụng\n",
        "\n",
        "- https://huggingface.co/vinai/phobert-base\n",
        "- https://github.com/vitalivu/underthesea\n",
        "- https://www.sbert.net/\n",
        "\n",
        "# Tham khảo\n",
        "\n",
        "Bibfile\n",
        "```\n",
        "@inproceedings{sbert2019,\n",
        "  title = \"Sentence-BERT: Sentence Embeddings using Siamese BERT-Networks\",\n",
        "  author = \"Reimers, Nils and Gurevych, Iryna\",\n",
        "  booktitle = \"Proceedings of the 2019 Conference on Empirical Methods in Natural Language Processing\",\n",
        "  month = \"11\",\n",
        "  year = \"2019\",\n",
        "  publisher = \"Association for Computational Linguistics\",\n",
        "  url = \"https://arxiv.org/abs/1908.10084\",\n",
        "}\n",
        "@article{phobert2020,\n",
        "  title     = {{PhoBERT: Pre-trained language models for Vietnamese}},\n",
        "  author    = {Dat Quoc Nguyen and Anh Tuan Nguyen},\n",
        "  journal   = {Findings of EMNLP},\n",
        "  year      = {2020}\n",
        "}\n",
        "```"
      ]
    },
    {
      "cell_type": "markdown",
      "metadata": {
        "id": "b2K4LximmUSq"
      },
      "source": [
        "# Cài đặt các thư viện\n"
      ]
    },
    {
      "cell_type": "code",
      "metadata": {
        "id": "8iObskdnG1nm"
      },
      "source": [
        "!pip install transformers\n",
        "!pip install sentence-transformers\n",
        "!pip install git+https://github.com/vitalivu/underthesea.git #original source code has version conflict issue"
      ],
      "execution_count": null,
      "outputs": []
    },
    {
      "cell_type": "code",
      "metadata": {
        "colab": {
          "base_uri": "https://localhost:8080/"
        },
        "id": "kgDFmZq1JnIo",
        "outputId": "c285c813-92c1-4497-bf95-37181e26c833"
      },
      "source": [
        "import matplotlib.pyplot as plt\n",
        "import numpy as np\n",
        "\n",
        "import torch\n",
        "import torch.nn.functional as f\n",
        "\n",
        "from underthesea import word_tokenize\n",
        "from transformers import AutoModel, AutoTokenizer\n",
        "\n",
        "phobert = AutoModel.from_pretrained(\"vinai/phobert-base\")\n",
        "tokenizer = AutoTokenizer.from_pretrained(\"vinai/phobert-base\")\n",
        "\n",
        "device = torch.device(\"cuda\" if torch.cuda.is_available() else \"cpu\")\n",
        "model = phobert.eval().to(device)"
      ],
      "execution_count": 2,
      "outputs": [
        {
          "output_type": "stream",
          "text": [
            "Some weights of the model checkpoint at vinai/phobert-base were not used when initializing RobertaModel: ['lm_head.decoder.weight', 'lm_head.dense.bias', 'lm_head.decoder.bias', 'lm_head.layer_norm.bias', 'lm_head.dense.weight', 'lm_head.layer_norm.weight', 'lm_head.bias']\n",
            "- This IS expected if you are initializing RobertaModel from the checkpoint of a model trained on another task or with another architecture (e.g. initializing a BertForSequenceClassification model from a BertForPreTraining model).\n",
            "- This IS NOT expected if you are initializing RobertaModel from the checkpoint of a model that you expect to be exactly identical (initializing a BertForSequenceClassification model from a BertForSequenceClassification model).\n",
            "Special tokens have been added in the vocabulary, make sure the associated word embeddings are fine-tuned or trained.\n"
          ],
          "name": "stderr"
        }
      ]
    },
    {
      "cell_type": "markdown",
      "metadata": {
        "id": "mI2IWcc9nI5v"
      },
      "source": [
        "PhoBERT yêu cầu các câu đầu vào sử dụng các từ đã được phân đoạn (segmented). Sử dụng underthesea library để làm việc này."
      ]
    },
    {
      "cell_type": "code",
      "metadata": {
        "colab": {
          "base_uri": "https://localhost:8080/"
        },
        "id": "iA-7XMnIQnFp",
        "outputId": "b16dda22-3b63-4392-cb49-612092ba1a34"
      },
      "source": [
        "texts = ['Vùng có thu nhập bình quân đầu người cao nhất cả nước là Đông Nam Bộ',\n",
        "    'Bình Dương là địa phương có thu nhập bình quân đầu người cao nhất,', \n",
        "    'Angela sinh ra trong một gia đình đông con và không khá giả']\n",
        "\n",
        "texts = [word_tokenize(text, format=\"text\") for text in texts]\n",
        "\n",
        "for text in texts:\n",
        "    print(len(text.split(\" \")), text)"
      ],
      "execution_count": 3,
      "outputs": [
        {
          "output_type": "stream",
          "text": [
            "12 Vùng có thu_nhập bình_quân đầu người cao nhất cả nước là Đông_Nam_Bộ\n",
            "11 Bình_Dương là địa_phương có thu_nhập bình_quân đầu người cao nhất ,\n",
            "11 Angela sinh ra trong một gia_đình đông con và không khá_giả\n"
          ],
          "name": "stdout"
        }
      ]
    },
    {
      "cell_type": "markdown",
      "metadata": {
        "id": "FRbpVsbinnQN"
      },
      "source": [
        "Bổ sung thêm `padding=True` để thêm padding vào các câu ngắn, đảm bảo các câu có độ dài giống với nhau. Như ví dụ ở trên thì câu dài nhất (câu 1) có 12 từ, nên hai câu sau sẽ thêm 1 pad.\n",
        "\n"
      ]
    },
    {
      "cell_type": "code",
      "metadata": {
        "id": "Mh3rfwDvE3kj",
        "colab": {
          "base_uri": "https://localhost:8080/"
        },
        "outputId": "8be8d35b-b550-4832-c549-87716f33de24"
      },
      "source": [
        "encodings = tokenizer(texts, padding=True,\n",
        "    return_tensors='pt' # return the tensors (not lists)\n",
        ")\n",
        "encodings = encodings.to(device)\n",
        "encodings"
      ],
      "execution_count": 4,
      "outputs": [
        {
          "output_type": "execute_result",
          "data": {
            "text/plain": [
              "{'input_ids': tensor([[    0,  4805,    10,  1067,  2350,   127,    18,    84,    67,    94,\n",
              "            58,     8, 22115,     2],\n",
              "        [    0,  1952,     8,   296,    10,  1067,  2350,   127,    18,    84,\n",
              "            67,     4,     2,     1],\n",
              "        [    0, 43745,   418,    40,    12,    16,   161,   553,    73,     6,\n",
              "            17, 10883,     2,     1]]), 'token_type_ids': tensor([[0, 0, 0, 0, 0, 0, 0, 0, 0, 0, 0, 0, 0, 0],\n",
              "        [0, 0, 0, 0, 0, 0, 0, 0, 0, 0, 0, 0, 0, 0],\n",
              "        [0, 0, 0, 0, 0, 0, 0, 0, 0, 0, 0, 0, 0, 0]]), 'attention_mask': tensor([[1, 1, 1, 1, 1, 1, 1, 1, 1, 1, 1, 1, 1, 1],\n",
              "        [1, 1, 1, 1, 1, 1, 1, 1, 1, 1, 1, 1, 1, 0],\n",
              "        [1, 1, 1, 1, 1, 1, 1, 1, 1, 1, 1, 1, 1, 0]])}"
            ]
          },
          "metadata": {
            "tags": []
          },
          "execution_count": 4
        }
      ]
    },
    {
      "cell_type": "markdown",
      "metadata": {
        "id": "T1aDZQLpoApy"
      },
      "source": [
        "Tensor output có các dữ liệu sau:\n",
        "- **`input_ids`** list các `token id` của mỗi câu, sử dụng tokenizer để convert ngược lại ra từ ban đầu. Các `token id` dặc biệt ở đây có:\n",
        "  - `0` là id của token bắt đầu một câu: `<s>`\n",
        "  - `1` đại diện cho token kết thúc câu: `</s>`\n",
        "  - `2` đại diện cho token pad: `<pad>`\n",
        "- **`attention_mask`**: thể hiện id nào dùng để tạo ra token, các token `<pad>` sẽ bị bỏ qua\n",
        "- **`token_type_ids`**: thể hiện token tương ứng với\n",
        "\n"
      ]
    },
    {
      "cell_type": "code",
      "metadata": {
        "colab": {
          "base_uri": "https://localhost:8080/"
        },
        "id": "ykM5O1bJKCkh",
        "outputId": "ba9e8a57-1748-4531-cee6-b60d0d0d8cee"
      },
      "source": [
        "encodings.keys()"
      ],
      "execution_count": 5,
      "outputs": [
        {
          "output_type": "execute_result",
          "data": {
            "text/plain": [
              "dict_keys(['input_ids', 'token_type_ids', 'attention_mask'])"
            ]
          },
          "metadata": {
            "tags": []
          },
          "execution_count": 5
        }
      ]
    },
    {
      "cell_type": "code",
      "metadata": {
        "colab": {
          "base_uri": "https://localhost:8080/"
        },
        "id": "bkR6XuJxoTX7",
        "outputId": "9dfcd5e5-8e00-4156-a201-4700235c99d3"
      },
      "source": [
        "encodings['input_ids']"
      ],
      "execution_count": 6,
      "outputs": [
        {
          "output_type": "execute_result",
          "data": {
            "text/plain": [
              "tensor([[    0,  4805,    10,  1067,  2350,   127,    18,    84,    67,    94,\n",
              "            58,     8, 22115,     2],\n",
              "        [    0,  1952,     8,   296,    10,  1067,  2350,   127,    18,    84,\n",
              "            67,     4,     2,     1],\n",
              "        [    0, 43745,   418,    40,    12,    16,   161,   553,    73,     6,\n",
              "            17, 10883,     2,     1]])"
            ]
          },
          "metadata": {
            "tags": []
          },
          "execution_count": 6
        }
      ]
    },
    {
      "cell_type": "code",
      "metadata": {
        "colab": {
          "base_uri": "https://localhost:8080/"
        },
        "id": "scBIKDlIp0fs",
        "outputId": "906b69fd-ca18-4ead-c0f2-10c750f4e49f"
      },
      "source": [
        "encodings['attention_mask']"
      ],
      "execution_count": 7,
      "outputs": [
        {
          "output_type": "execute_result",
          "data": {
            "text/plain": [
              "tensor([[1, 1, 1, 1, 1, 1, 1, 1, 1, 1, 1, 1, 1, 1],\n",
              "        [1, 1, 1, 1, 1, 1, 1, 1, 1, 1, 1, 1, 1, 0],\n",
              "        [1, 1, 1, 1, 1, 1, 1, 1, 1, 1, 1, 1, 1, 0]])"
            ]
          },
          "metadata": {
            "tags": []
          },
          "execution_count": 7
        }
      ]
    },
    {
      "cell_type": "code",
      "metadata": {
        "colab": {
          "base_uri": "https://localhost:8080/"
        },
        "id": "PCBCnPIXp4SK",
        "outputId": "52c41dc4-b3e5-45f7-f51a-30cf6dd990ad"
      },
      "source": [
        "encodings['token_type_ids']"
      ],
      "execution_count": 8,
      "outputs": [
        {
          "output_type": "execute_result",
          "data": {
            "text/plain": [
              "tensor([[0, 0, 0, 0, 0, 0, 0, 0, 0, 0, 0, 0, 0, 0],\n",
              "        [0, 0, 0, 0, 0, 0, 0, 0, 0, 0, 0, 0, 0, 0],\n",
              "        [0, 0, 0, 0, 0, 0, 0, 0, 0, 0, 0, 0, 0, 0]])"
            ]
          },
          "metadata": {
            "tags": []
          },
          "execution_count": 8
        }
      ]
    },
    {
      "cell_type": "markdown",
      "metadata": {
        "id": "muMS4imZp9g7"
      },
      "source": [
        "Sử dụng tokenizer để chuyển đội token id về token như sau"
      ]
    },
    {
      "cell_type": "code",
      "metadata": {
        "colab": {
          "base_uri": "https://localhost:8080/"
        },
        "id": "XBi6edLvKMbs",
        "outputId": "38c12320-05cb-471f-939f-cf01797eff29"
      },
      "source": [
        "for ids in encodings['input_ids']:\n",
        "    print(tokenizer.convert_ids_to_tokens(ids))"
      ],
      "execution_count": 9,
      "outputs": [
        {
          "output_type": "stream",
          "text": [
            "['<s>', 'Vùng', 'có', 'thu_nhập', 'bình_quân', 'đầu', 'người', 'cao', 'nhất', 'cả', 'nước', 'là', 'Đông_Nam_Bộ', '</s>']\n",
            "['<s>', 'Bình_Dương', 'là', 'địa_phương', 'có', 'thu_nhập', 'bình_quân', 'đầu', 'người', 'cao', 'nhất', ',', '</s>', '<pad>']\n",
            "['<s>', 'Angela', 'sinh', 'ra', 'trong', 'một', 'gia_đình', 'đông', 'con', 'và', 'không', 'khá_giả', '</s>', '<pad>']\n"
          ],
          "name": "stdout"
        }
      ]
    },
    {
      "cell_type": "markdown",
      "metadata": {
        "id": "b402W9JMqO6g"
      },
      "source": [
        "# Câu nhúng\n",
        "\n",
        "Để tính được token embeddings chúng ta gửi encoding qua model. Pytorch thực hiện tính gradient cho mỗi layer trong model - việc này chỉ hữu ích với quá trình huấn luyện model nên chúng ta có thể bỏ qua. \n",
        "\n",
        "Việc bỏ qua gradient (`.no_grad`) cũng giúp tiết kiệm được không gian nhớ trên CPU/GPU."
      ]
    },
    {
      "cell_type": "code",
      "metadata": {
        "id": "lpVGZceGWmu4"
      },
      "source": [
        "with torch.no_grad():\n",
        "    embeds = model(**encodings)\n",
        "embeds = embeds[0]"
      ],
      "execution_count": 10,
      "outputs": []
    },
    {
      "cell_type": "code",
      "metadata": {
        "id": "6gULdkXZWzVQ"
      },
      "source": [
        "def visualize(distances, figsize=(10, 5), titles=None):\n",
        "    \"\"\"\n",
        "    \n",
        "    \"\"\"\n",
        "    ncols = len(distances)\n",
        "    fig, ax = plt.subplots(ncols=ncols, figsize=figsize)\n",
        "    \n",
        "    for i in range(ncols):\n",
        "        axes = ax[i] if ncols > 1 else ax\n",
        "        distance = distances[i]\n",
        "        axes.imshow(distance)\n",
        "        axes.set_xticks(np.arange(distance.shape[0]))\n",
        "        axes.set_yticks(np.arange(distance.shape[1]))\n",
        "        axes.set_xticklabels(np.arange(distance.shape[0]))\n",
        "        axes.set_yticklabels(np.arange(distance.shape[1]))\n",
        "\n",
        "        for j in range(distance.shape[0]): # index of sentences in array\n",
        "            for k in range(distance.shape[1]):\n",
        "                text = axes.text(k, j, str(round(distance[j, k], 3)), ha=\"center\", va=\"center\", color=\"w\")\n",
        "                \n",
        "        title = titles[i] if titles and len(titles) > i else \"Text Distance\"\n",
        "        axes.set_title(title, fontsize=\"x-large\")\n",
        "        \n",
        "    fig.tight_layout()\n",
        "    plt.show()"
      ],
      "execution_count": 11,
      "outputs": []
    },
    {
      "cell_type": "markdown",
      "metadata": {
        "id": "RXAPYHPfvWPb"
      },
      "source": [
        "# Độ tương tự\n",
        "Tính khoảng cách giữa các vector embeddings để so sánh độ tương tự. Thực hiện ba phương pháp:\n",
        "- dùng `[CLS]` token\n",
        "- `MEAN` của tất cả các token\n",
        "- `MAX` của tất cả các token trong câu."
      ]
    },
    {
      "cell_type": "markdown",
      "metadata": {
        "id": "rT1a0Ik7W47D"
      },
      "source": [
        "1. Sử dụng `[CLS]` tokens - lấy embeddings của `[CLS]` token"
      ]
    },
    {
      "cell_type": "code",
      "metadata": {
        "id": "2gW2rllYW31U"
      },
      "source": [
        "CLSs = embeds[:, 0, :]\n",
        "normalized = f.normalize(CLSs, p=2, dim=1)\n",
        "cls_dist = normalized.matmul(normalized.T)\n",
        "cls_dist = cls_dist.new_ones(cls_dist.shape) - cls_dist\n",
        "cls_dist = cls_dist.numpy()"
      ],
      "execution_count": 12,
      "outputs": []
    },
    {
      "cell_type": "markdown",
      "metadata": {
        "id": "FC0U0hzlXBfO"
      },
      "source": [
        "2. `MEANS` tokens"
      ]
    },
    {
      "cell_type": "code",
      "metadata": {
        "id": "SvI9b2PvXDlT"
      },
      "source": [
        "MEANS = embeds.mean(dim=1)\n",
        "normalized = f.normalize(MEANS, p=2, dim=1)\n",
        "mean_dist = normalized.matmul(normalized.T)\n",
        "mean_dist = mean_dist.new_ones(mean_dist.shape) - mean_dist\n",
        "mean_dist = mean_dist.numpy()"
      ],
      "execution_count": 13,
      "outputs": []
    },
    {
      "cell_type": "markdown",
      "metadata": {
        "id": "atjDDM0hXH62"
      },
      "source": [
        "3. `MAX` over time"
      ]
    },
    {
      "cell_type": "code",
      "metadata": {
        "id": "f62cSk4jXKA7"
      },
      "source": [
        "MAXS, _ = embeds.max(dim=1)\n",
        "normalized = f.normalize(MAXS, p=2, dim=1)\n",
        "max_dist = normalized.matmul(normalized.T)\n",
        "max_dist = max_dist.new_ones(max_dist.shape) - max_dist\n",
        "max_dist = max_dist.numpy()"
      ],
      "execution_count": 14,
      "outputs": []
    },
    {
      "cell_type": "markdown",
      "metadata": {
        "id": "5_2kWrDGwUo6"
      },
      "source": [
        "# So sánh kết quả\n"
      ]
    },
    {
      "cell_type": "code",
      "metadata": {
        "colab": {
          "base_uri": "https://localhost:8080/"
        },
        "id": "d-gDNRK4iUZa",
        "outputId": "eec08d57-7713-4c68-80c6-beb256f76b5b"
      },
      "source": [
        "texts"
      ],
      "execution_count": 15,
      "outputs": [
        {
          "output_type": "execute_result",
          "data": {
            "text/plain": [
              "['Vùng có thu_nhập bình_quân đầu người cao nhất cả nước là Đông_Nam_Bộ',\n",
              " 'Bình_Dương là địa_phương có thu_nhập bình_quân đầu người cao nhất ,',\n",
              " 'Angela sinh ra trong một gia_đình đông con và không khá_giả']"
            ]
          },
          "metadata": {
            "tags": []
          },
          "execution_count": 15
        }
      ]
    },
    {
      "cell_type": "code",
      "metadata": {
        "colab": {
          "base_uri": "https://localhost:8080/",
          "height": 277
        },
        "id": "abygV8zGXQNQ",
        "outputId": "b8eec331-5a5d-48bd-f75f-d2375dacc2ac"
      },
      "source": [
        "dist = [cls_dist, mean_dist, max_dist]\n",
        "titles = [\"CLS\", \"MEAN\", \"MAX\"]\n",
        "visualize(dist, titles=titles)"
      ],
      "execution_count": 16,
      "outputs": [
        {
          "output_type": "display_data",
          "data": {
            "image/png": "[encoded data removed]",
            "text/plain": [
              "<Figure size 720x360 with 3 Axes>"
            ]
          },
          "metadata": {
            "tags": [],
            "needs_background": "light"
          }
        }
      ]
    },
    {
      "cell_type": "markdown",
      "metadata": {
        "id": "ES_2wpUJspnK"
      },
      "source": [
        "Từ biểu diễn trên, nhận xét: đối với cả ba phương pháp, \n",
        "- câu 0 và câu 1 gần nhau hơn là câu 2, rõ nhất ở MAX (MAX < MEAN < CLS) => mức độ tương tự cao hơn\n",
        "- khoảng cách từ câu 2 đến câu 1 và câu 0 là tương đồng với nhau ở MEAN (MEAN < MAX < CLS)\n",
        "\n",
        "Như vậy có thể kết quả này khác với công bố SBERT!!!"
      ]
    },
    {
      "cell_type": "markdown",
      "metadata": {
        "id": "-dmnFS3JuoiY"
      },
      "source": [
        "# TODO\n",
        "\n",
        "- tìm dataset tiếng Việt tương tự Standford NLI và Multi-Genre NLI\n",
        "- thực nghiệm để so sánh kết quả"
      ]
    }
  ]
}